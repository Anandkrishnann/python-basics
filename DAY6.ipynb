{
 "cells": [
  {
   "cell_type": "code",
   "execution_count": 6,
   "id": "e0f90c39",
   "metadata": {},
   "outputs": [
    {
     "name": "stdout",
     "output_type": "stream",
     "text": [
      "thetoyotacoralla engine is started.\n"
     ]
    }
   ],
   "source": [
    "class car:\n",
    "    def __init__(self,brand,model):\n",
    "        self.brand=brand\n",
    "        self.model=model\n",
    "    def start_engine(self):\n",
    "        print(f\"the{self.brand}{self.model} engine is started.\")\n",
    "my_car =car(\"toyota\",\"coralla\")\n",
    "my_car.start_engine()"
   ]
  },
  {
   "cell_type": "code",
   "execution_count": 20,
   "id": "a100d4b3",
   "metadata": {},
   "outputs": [],
   "source": [
    "class arithamatical:\n",
    "    def __init__(self,a,b):\n",
    "        self.a=a\n",
    "        self.b=b\n",
    "    def addition(self):\n",
    "        result= self.a + self.b\n",
    "        return result\n",
    "    def subtraction(self):\n",
    "        if self.a>self.b:\n",
    "            result=  self.a - self.b\n",
    "            return result\n",
    "        else:\n",
    "            print(f\"{self.a} is smaller than {self.b}\")\n",
    "    def multiplication(c,d):#instad of self c and d it will not exicute\n",
    "        return c*d\n",
    "    def multiplication(self,c,d):#we can add extra variable we dont need to stick with the inistial variable\n",
    "        return c*d"
   ]
  },
  {
   "cell_type": "code",
   "execution_count": 21,
   "id": "57fa3f2e",
   "metadata": {},
   "outputs": [],
   "source": [
    "value= arithamatical(10,5)"
   ]
  },
  {
   "cell_type": "code",
   "execution_count": 22,
   "id": "e3703b47",
   "metadata": {},
   "outputs": [],
   "source": [
    "result=value.addition()"
   ]
  },
  {
   "cell_type": "code",
   "execution_count": 23,
   "id": "bb5da04f",
   "metadata": {},
   "outputs": [
    {
     "name": "stdout",
     "output_type": "stream",
     "text": [
      "15\n"
     ]
    }
   ],
   "source": [
    "print(result)"
   ]
  },
  {
   "cell_type": "code",
   "execution_count": 24,
   "id": "b404855f",
   "metadata": {},
   "outputs": [
    {
     "data": {
      "text/plain": [
       "5"
      ]
     },
     "execution_count": 24,
     "metadata": {},
     "output_type": "execute_result"
    }
   ],
   "source": [
    "value.subtraction()"
   ]
  },
  {
   "cell_type": "code",
   "execution_count": 25,
   "id": "438f3494",
   "metadata": {},
   "outputs": [
    {
     "data": {
      "text/plain": [
       "24"
      ]
     },
     "execution_count": 25,
     "metadata": {},
     "output_type": "execute_result"
    }
   ],
   "source": [
    "value.multiplication(4,6)"
   ]
  },
  {
   "cell_type": "code",
   "execution_count": null,
   "id": "d8ef87d1",
   "metadata": {},
   "outputs": [],
   "source": []
  }
 ],
 "metadata": {
  "kernelspec": {
   "display_name": "Python 3 (ipykernel)",
   "language": "python",
   "name": "python3"
  },
  "language_info": {
   "codemirror_mode": {
    "name": "ipython",
    "version": 3
   },
   "file_extension": ".py",
   "mimetype": "text/x-python",
   "name": "python",
   "nbconvert_exporter": "python",
   "pygments_lexer": "ipython3",
   "version": "3.9.13"
  }
 },
 "nbformat": 4,
 "nbformat_minor": 5
}
