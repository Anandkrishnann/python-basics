{
 "cells": [
  {
   "cell_type": "code",
   "execution_count": 1,
   "id": "a2281000",
   "metadata": {},
   "outputs": [],
   "source": [
    "a = \"hello how are you\"\n",
    "v = \"aeiou\"\n",
    "\n",
    "a = a.lower()\n",
    "count=0\n",
    "d = {}\n",
    "for i in a:\n",
    "    if i in v:\n",
    "        count += 1\n",
    "        if i in d:\n",
    "            d[i] += count\n",
    "        else:\n",
    "            d[i] = count"
   ]
  },
  {
   "cell_type": "code",
   "execution_count": 2,
   "id": "132c35e2",
   "metadata": {},
   "outputs": [
    {
     "name": "stdout",
     "output_type": "stream",
     "text": [
      "hello\n"
     ]
    }
   ],
   "source": [
    "print(\"hello\")"
   ]
  },
  {
   "cell_type": "code",
   "execution_count": 3,
   "id": "07b87047",
   "metadata": {},
   "outputs": [
    {
     "ename": "SyntaxError",
     "evalue": "EOL while scanning string literal (2017329483.py, line 8)",
     "output_type": "error",
     "traceback": [
      "\u001b[1;36m  File \u001b[1;32m\"C:\\Users\\anand\\AppData\\Local\\Temp\\ipykernel_13660\\2017329483.py\"\u001b[1;36m, line \u001b[1;32m8\u001b[0m\n\u001b[1;33m    print(f\"{a} prime)\u001b[0m\n\u001b[1;37m                      ^\u001b[0m\n\u001b[1;31mSyntaxError\u001b[0m\u001b[1;31m:\u001b[0m EOL while scanning string literal\n"
     ]
    }
   ],
   "source": [
    "a=int(input(\"enter the number=\"))\n",
    "flag=0\n",
    "for i in range(2,(a//2)+1):\n",
    "    if a%i==0:\n",
    "        flag=1\n",
    "        break\n",
    "if flag==0:\n",
    "    print(f\"{a} prime)\n",
    "else:\n",
    "          print(f\"{a} not prime\")\n",
    "              \n",
    "    "
   ]
  },
  {
   "cell_type": "code",
   "execution_count": null,
   "id": "13eae064",
   "metadata": {},
   "outputs": [],
   "source": [
    "def is_prime(number):\n",
    "\n",
    "    if number <= 1:\n",
    "        return False\n",
    "    if number <= 3:\n",
    "        return True\n",
    "    if number % 2 == 0 or number % 3 == 0:\n",
    "        return False\n",
    "\n",
    "    i = 5\n",
    "    while i * i <= number:\n",
    "        if number % i == 0 or number % (i + 2) == 0:\n",
    "            return False\n",
    "        i += 6\n",
    "\n",
    "    return True\n",
    "\n",
    "number = int(input(\"Enter a number: \"))\n",
    "\n",
    "if is_prime(number):\n",
    "    print(f\"{number} is prime\")\n",
    "else:\n",
    "    print(f\"{number} is not prime\")"
   ]
  },
  {
   "cell_type": "code",
   "execution_count": null,
   "id": "bfb39388",
   "metadata": {},
   "outputs": [],
   "source": [
    "a=int(input(\"enter the number=\"))\n",
    "flag=0\n",
    "for i in range(2,(a//2)+1):\n",
    "    if a%i==0:\n",
    "        flag=1\n",
    "        break\n",
    "if flag==0:\n",
    "    print(f\"{a} prime\")\n",
    "else:\n",
    "    print(f\"{a} not prime\")"
   ]
  },
  {
   "cell_type": "code",
   "execution_count": null,
   "id": "5021d411",
   "metadata": {},
   "outputs": [],
   "source": [
    "# find all prime under 100\n",
    "\n",
    "list=[]\n",
    "for i in range(1,101):\n",
    "    flag=0\n",
    "    for j in range(2,(a//2)+1):\n",
    "        if i%j==0:\n",
    "            flag=1\n",
    "            break\n",
    "    if flag==0:\n",
    "        list.append(a)\n",
    "    \n",
    "        \n",
    "            \n",
    "    "
   ]
  },
  {
   "cell_type": "code",
   "execution_count": 4,
   "id": "bd60c064",
   "metadata": {},
   "outputs": [
    {
     "name": "stdout",
     "output_type": "stream",
     "text": [
      "enter the number5\n",
      "120\n"
     ]
    }
   ],
   "source": [
    "num=int(input(\"enter the number\" ))\n",
    "result=1\n",
    "while num>=1:\n",
    "    result =result*num\n",
    "    num-=1\n",
    "print(result)"
   ]
  },
  {
   "cell_type": "code",
   "execution_count": 7,
   "id": "c5ad96d8",
   "metadata": {},
   "outputs": [
    {
     "ename": "AttributeError",
     "evalue": "'str' object has no attribute 'append'",
     "output_type": "error",
     "traceback": [
      "\u001b[1;31m---------------------------------------------------------------------------\u001b[0m",
      "\u001b[1;31mAttributeError\u001b[0m                            Traceback (most recent call last)",
      "\u001b[1;32m~\\AppData\\Local\\Temp\\ipykernel_13660\\3386404061.py\u001b[0m in \u001b[0;36m<module>\u001b[1;34m\u001b[0m\n\u001b[0;32m      3\u001b[0m \u001b[1;32mwhile\u001b[0m \u001b[0mnum\u001b[0m\u001b[1;33m<=\u001b[0m\u001b[1;36m20\u001b[0m\u001b[1;33m:\u001b[0m\u001b[1;33m\u001b[0m\u001b[1;33m\u001b[0m\u001b[0m\n\u001b[0;32m      4\u001b[0m     \u001b[1;32mif\u001b[0m \u001b[0mnum\u001b[0m\u001b[1;33m%\u001b[0m\u001b[1;36m2\u001b[0m\u001b[1;33m==\u001b[0m\u001b[1;36m0\u001b[0m \u001b[1;33m:\u001b[0m\u001b[1;33m\u001b[0m\u001b[1;33m\u001b[0m\u001b[0m\n\u001b[1;32m----> 5\u001b[1;33m         \u001b[0mi\u001b[0m\u001b[1;33m.\u001b[0m\u001b[0mappend\u001b[0m\u001b[1;33m(\u001b[0m\u001b[0mnum\u001b[0m\u001b[1;33m)\u001b[0m\u001b[1;33m\u001b[0m\u001b[1;33m\u001b[0m\u001b[0m\n\u001b[0m\u001b[0;32m      6\u001b[0m     \u001b[1;32mif\u001b[0m \u001b[0mnum\u001b[0m\u001b[1;33m>=\u001b[0m\u001b[1;36m1\u001b[0m\u001b[1;33m:\u001b[0m\u001b[1;33m\u001b[0m\u001b[1;33m\u001b[0m\u001b[0m\n\u001b[0;32m      7\u001b[0m         \u001b[1;32mbreak\u001b[0m\u001b[1;33m\u001b[0m\u001b[1;33m\u001b[0m\u001b[0m\n",
      "\u001b[1;31mAttributeError\u001b[0m: 'str' object has no attribute 'append'"
     ]
    }
   ],
   "source": [
    "num=20\n",
    "l=[]\n",
    "while num<=20:\n",
    "    if num%2==0 :\n",
    "        i.append(num)\n",
    "    if num>=1:\n",
    "        break\n",
    "print(l)\n",
    "    \n",
    "    "
   ]
  },
  {
   "cell_type": "code",
   "execution_count": 11,
   "id": "3ef58265",
   "metadata": {},
   "outputs": [],
   "source": [
    "#user difined funtion\n",
    "def add_two_num(x,y):\n",
    "    result=x+y\n",
    "    return result"
   ]
  },
  {
   "cell_type": "code",
   "execution_count": 12,
   "id": "8c013b8d",
   "metadata": {},
   "outputs": [],
   "source": [
    "s=add_two_num(4,5)"
   ]
  },
  {
   "cell_type": "code",
   "execution_count": null,
   "id": "1de53b42",
   "metadata": {},
   "outputs": [],
   "source": []
  }
 ],
 "metadata": {
  "kernelspec": {
   "display_name": "Python 3 (ipykernel)",
   "language": "python",
   "name": "python3"
  },
  "language_info": {
   "codemirror_mode": {
    "name": "ipython",
    "version": 3
   },
   "file_extension": ".py",
   "mimetype": "text/x-python",
   "name": "python",
   "nbconvert_exporter": "python",
   "pygments_lexer": "ipython3",
   "version": "3.9.13"
  }
 },
 "nbformat": 4,
 "nbformat_minor": 5
}
