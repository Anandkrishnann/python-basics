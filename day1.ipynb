{
 "cells": [
  {
   "cell_type": "code",
   "execution_count": 1,
   "id": "def0b5c0",
   "metadata": {},
   "outputs": [
    {
     "name": "stdout",
     "output_type": "stream",
     "text": [
      "anand\n"
     ]
    }
   ],
   "source": [
    "print(\"anand\")"
   ]
  },
  {
   "cell_type": "markdown",
   "id": "5fee2789",
   "metadata": {},
   "source": [
    "hello- for this change code to markdown\n",
    "# 1-hash\n",
    "## 2 hash\n",
    "### 3hash"
   ]
  },
  {
   "cell_type": "markdown",
   "id": "495147f1",
   "metadata": {},
   "source": [
    "# day-1\n"
   ]
  },
  {
   "cell_type": "markdown",
   "id": "98afd90c",
   "metadata": {},
   "source": [
    "intigers-whole number(1 2 3..)                             \n",
    "\n",
    "float- decimal numbers\n",
    "\n",
    "string- sequence of unicode charecter, alphabet and alphanumeric\n",
    "\n",
    "boolian-true false\n",
    "\n",
    "list- orderd mutable\n",
    "\n",
    "tuple- orderd unmutable\n",
    "\n",
    "dictionary-key and value\n",
    "\n",
    "set- unique item, un orderd\n",
    "\n",
    "complex- magnitude and direction(vector-3+7i)"
   ]
  },
  {
   "cell_type": "code",
   "execution_count": 2,
   "id": "f466a32c",
   "metadata": {},
   "outputs": [],
   "source": [
    "x=5 ##assigning  5 intiger value to x"
   ]
  },
  {
   "cell_type": "code",
   "execution_count": 3,
   "id": "c9baa5e1",
   "metadata": {},
   "outputs": [
    {
     "data": {
      "text/plain": [
       "5"
      ]
     },
     "execution_count": 3,
     "metadata": {},
     "output_type": "execute_result"
    }
   ],
   "source": [
    "x"
   ]
  },
  {
   "cell_type": "code",
   "execution_count": 4,
   "id": "f3dacbcd",
   "metadata": {},
   "outputs": [],
   "source": [
    "y=\"hello\" ##aasingning hello string to y"
   ]
  },
  {
   "cell_type": "code",
   "execution_count": 5,
   "id": "9e742e7c",
   "metadata": {},
   "outputs": [],
   "source": [
    "y=4  ## chaiging value assined to y"
   ]
  },
  {
   "cell_type": "code",
   "execution_count": 6,
   "id": "1c417d10",
   "metadata": {},
   "outputs": [
    {
     "data": {
      "text/plain": [
       "4"
      ]
     },
     "execution_count": 6,
     "metadata": {},
     "output_type": "execute_result"
    }
   ],
   "source": [
    "y"
   ]
  },
  {
   "cell_type": "code",
   "execution_count": 7,
   "id": "75d0cefc",
   "metadata": {},
   "outputs": [
    {
     "data": {
      "text/plain": [
       "int"
      ]
     },
     "execution_count": 7,
     "metadata": {},
     "output_type": "execute_result"
    }
   ],
   "source": [
    "type(x) ##data type"
   ]
  },
  {
   "cell_type": "code",
   "execution_count": 8,
   "id": "abf7550c",
   "metadata": {},
   "outputs": [
    {
     "data": {
      "text/plain": [
       "int"
      ]
     },
     "execution_count": 8,
     "metadata": {},
     "output_type": "execute_result"
    }
   ],
   "source": [
    "type(y)"
   ]
  },
  {
   "cell_type": "code",
   "execution_count": 9,
   "id": "f2edc606",
   "metadata": {},
   "outputs": [
    {
     "name": "stdout",
     "output_type": "stream",
     "text": [
      "9\n"
     ]
    }
   ],
   "source": [
    "m=x+y\n",
    "print(m)"
   ]
  },
  {
   "cell_type": "code",
   "execution_count": 10,
   "id": "ad231eed",
   "metadata": {},
   "outputs": [
    {
     "name": "stdout",
     "output_type": "stream",
     "text": [
      "1\n"
     ]
    }
   ],
   "source": [
    "subtraction= x-y\n",
    "print(subtraction)"
   ]
  },
  {
   "cell_type": "code",
   "execution_count": 11,
   "id": "6292f780",
   "metadata": {},
   "outputs": [],
   "source": [
    "z= 3+4j"
   ]
  },
  {
   "cell_type": "code",
   "execution_count": 12,
   "id": "88ad37d4",
   "metadata": {},
   "outputs": [
    {
     "data": {
      "text/plain": [
       "complex"
      ]
     },
     "execution_count": 12,
     "metadata": {},
     "output_type": "execute_result"
    }
   ],
   "source": [
    "type(z)"
   ]
  },
  {
   "cell_type": "code",
   "execution_count": 13,
   "id": "d7804733",
   "metadata": {},
   "outputs": [
    {
     "name": "stdout",
     "output_type": "stream",
     "text": [
      "20\n"
     ]
    }
   ],
   "source": [
    "multiplication= x*y\n",
    "print(multiplication)"
   ]
  },
  {
   "cell_type": "code",
   "execution_count": 14,
   "id": "738a3215",
   "metadata": {},
   "outputs": [
    {
     "name": "stdout",
     "output_type": "stream",
     "text": [
      "1.25\n"
     ]
    }
   ],
   "source": [
    "divistion=x/y\n",
    "print(divistion)"
   ]
  },
  {
   "cell_type": "code",
   "execution_count": 15,
   "id": "132205e8",
   "metadata": {},
   "outputs": [
    {
     "name": "stdout",
     "output_type": "stream",
     "text": [
      "1\n"
     ]
    }
   ],
   "source": [
    "floor_devistion=x//y\n",
    "print(floor_devistion) ##heae 1 is with out decimal value"
   ]
  },
  {
   "cell_type": "code",
   "execution_count": 16,
   "id": "9338be8c",
   "metadata": {},
   "outputs": [
    {
     "name": "stdout",
     "output_type": "stream",
     "text": [
      "1\n"
     ]
    }
   ],
   "source": [
    "modular_devition=x%y\n",
    "print(modular_devition) ##hear 1 represent the reminder"
   ]
  },
  {
   "cell_type": "code",
   "execution_count": 17,
   "id": "dfaa9edf",
   "metadata": {},
   "outputs": [
    {
     "name": "stdout",
     "output_type": "stream",
     "text": [
      "625\n"
     ]
    }
   ],
   "source": [
    "v=x**y\n",
    "print(v) ##x to the power y"
   ]
  },
  {
   "cell_type": "code",
   "execution_count": 18,
   "id": "66f3aced",
   "metadata": {},
   "outputs": [
    {
     "data": {
      "text/plain": [
       "625"
      ]
     },
     "execution_count": 18,
     "metadata": {},
     "output_type": "execute_result"
    }
   ],
   "source": [
    "pow(x,y) ##x to the power y"
   ]
  },
  {
   "cell_type": "code",
   "execution_count": 19,
   "id": "6dcf3bd0",
   "metadata": {},
   "outputs": [
    {
     "name": "stdout",
     "output_type": "stream",
     "text": [
      "44\n"
     ]
    }
   ],
   "source": [
    "##String concardination\n",
    "q='4'\n",
    "e='4'\n",
    "print(q+e)"
   ]
  },
  {
   "cell_type": "code",
   "execution_count": 20,
   "id": "e71d7da1",
   "metadata": {},
   "outputs": [
    {
     "name": "stdout",
     "output_type": "stream",
     "text": [
      "8\n"
     ]
    }
   ],
   "source": [
    "c=int(q)\n",
    "a=int(e)\n",
    "print(c+a)"
   ]
  },
  {
   "cell_type": "code",
   "execution_count": 21,
   "id": "89a17003",
   "metadata": {},
   "outputs": [
    {
     "name": "stdout",
     "output_type": "stream",
     "text": [
      "35.0\n"
     ]
    }
   ],
   "source": [
    "x='35'\n",
    "m=float(x)\n",
    "print(m) ##string into  float"
   ]
  },
  {
   "cell_type": "code",
   "execution_count": 22,
   "id": "1b299e81",
   "metadata": {},
   "outputs": [
    {
     "data": {
      "text/plain": [
       "float"
      ]
     },
     "execution_count": 22,
     "metadata": {},
     "output_type": "execute_result"
    }
   ],
   "source": [
    "type(m)"
   ]
  },
  {
   "cell_type": "code",
   "execution_count": 23,
   "id": "02fbae2e",
   "metadata": {},
   "outputs": [
    {
     "name": "stdout",
     "output_type": "stream",
     "text": [
      "35\n"
     ]
    }
   ],
   "source": [
    "x=35.67\n",
    "y=int(x)\n",
    "print(y)"
   ]
  },
  {
   "cell_type": "code",
   "execution_count": null,
   "id": "647f5087",
   "metadata": {},
   "outputs": [],
   "source": [
    "##ask the user to user input and sum the value\n",
    "x1= int(input(\"enter the number=\"))\n",
    "y1=int(input(\"enter the number=\"))\n",
    "sum =x1+y1\n",
    "print(sum)"
   ]
  },
  {
   "cell_type": "code",
   "execution_count": null,
   "id": "e9be263d",
   "metadata": {},
   "outputs": [],
   "source": [
    "x1= int(input(\"enter the number=\"))\n",
    "y1=int(input(\"enter the number=\"))\n",
    "sub =x1-y1\n",
    "print(sub)"
   ]
  },
  {
   "cell_type": "code",
   "execution_count": null,
   "id": "45674169",
   "metadata": {},
   "outputs": [],
   "source": [
    "x1= int(input(\"enter the number=\"))\n",
    "y1=int(input(\"enter the number=\"))\n",
    "mul =x1*y1\n",
    "print(mul)"
   ]
  },
  {
   "cell_type": "code",
   "execution_count": null,
   "id": "c38b126d",
   "metadata": {},
   "outputs": [],
   "source": [
    "x1= float(input(\"enter the number=\"))\n",
    "y1=float(input(\"enter the number=\"))\n",
    "div =x1/y1\n",
    "print(div)"
   ]
  },
  {
   "cell_type": "code",
   "execution_count": null,
   "id": "bcac81f9",
   "metadata": {},
   "outputs": [],
   "source": [
    "x1= int(input(\"enter the number=\"))\n",
    "y1=int(input(\"enter the number=\"))\n",
    "power =x1**y1\n",
    "print(power)"
   ]
  },
  {
   "cell_type": "code",
   "execution_count": null,
   "id": "c4187841",
   "metadata": {},
   "outputs": [],
   "source": [
    "#float\n",
    "x1= float(input(\"enter the number=\"))\n",
    "y1=float(input(\"enter the number=\"))\n",
    "sum =x1+y1\n",
    "print(sum)"
   ]
  },
  {
   "cell_type": "markdown",
   "id": "377849f0",
   "metadata": {},
   "source": [
    "## day2\n",
    "## string"
   ]
  },
  {
   "cell_type": "code",
   "execution_count": null,
   "id": "672c5f5e",
   "metadata": {},
   "outputs": [],
   "source": [
    "a= \"how are you\"\n",
    "print(a)"
   ]
  },
  {
   "cell_type": "code",
   "execution_count": null,
   "id": "57437c6a",
   "metadata": {},
   "outputs": [],
   "source": [
    "a.upper()"
   ]
  },
  {
   "cell_type": "code",
   "execution_count": null,
   "id": "0021b0e9",
   "metadata": {},
   "outputs": [],
   "source": [
    "a.lower()"
   ]
  },
  {
   "cell_type": "code",
   "execution_count": null,
   "id": "e542f6d0",
   "metadata": {},
   "outputs": [],
   "source": [
    "#length\n",
    "len(a)"
   ]
  },
  {
   "cell_type": "code",
   "execution_count": null,
   "id": "49d044e0",
   "metadata": {},
   "outputs": [],
   "source": [
    "#to make title\n",
    "a.capitalize()"
   ]
  },
  {
   "cell_type": "code",
   "execution_count": null,
   "id": "c40dfde6",
   "metadata": {},
   "outputs": [],
   "source": [
    "#index\n",
    "a[0]"
   ]
  },
  {
   "cell_type": "code",
   "execution_count": null,
   "id": "e51a96bb",
   "metadata": {},
   "outputs": [],
   "source": [
    "a[1:10]"
   ]
  },
  {
   "cell_type": "code",
   "execution_count": null,
   "id": "81e797a6",
   "metadata": {},
   "outputs": [],
   "source": [
    "a[:]"
   ]
  },
  {
   "cell_type": "code",
   "execution_count": null,
   "id": "9c132cdb",
   "metadata": {},
   "outputs": [],
   "source": [
    "a[:5]"
   ]
  },
  {
   "cell_type": "code",
   "execution_count": null,
   "id": "1c052b36",
   "metadata": {},
   "outputs": [],
   "source": [
    "a[4:]"
   ]
  },
  {
   "cell_type": "code",
   "execution_count": null,
   "id": "98719799",
   "metadata": {},
   "outputs": [],
   "source": [
    "a[::2]"
   ]
  },
  {
   "cell_type": "code",
   "execution_count": null,
   "id": "d00965f7",
   "metadata": {},
   "outputs": [],
   "source": [
    "a[::3]"
   ]
  },
  {
   "cell_type": "code",
   "execution_count": null,
   "id": "2f8cfbb2",
   "metadata": {},
   "outputs": [],
   "source": [
    "a[:-1]"
   ]
  },
  {
   "cell_type": "code",
   "execution_count": null,
   "id": "bc3b1460",
   "metadata": {},
   "outputs": [],
   "source": [
    "a[-1]"
   ]
  },
  {
   "cell_type": "code",
   "execution_count": null,
   "id": "5f770cba",
   "metadata": {},
   "outputs": [],
   "source": [
    "a[-2:]"
   ]
  },
  {
   "cell_type": "code",
   "execution_count": null,
   "id": "9434b581",
   "metadata": {},
   "outputs": [],
   "source": [
    "a[-2:-1]"
   ]
  },
  {
   "cell_type": "code",
   "execution_count": null,
   "id": "d55d5ca5",
   "metadata": {},
   "outputs": [],
   "source": [
    "a[::-1]"
   ]
  },
  {
   "cell_type": "markdown",
   "id": "ae87bd03",
   "metadata": {},
   "source": [
    "### congardination"
   ]
  },
  {
   "cell_type": "code",
   "execution_count": null,
   "id": "242f44b0",
   "metadata": {},
   "outputs": [],
   "source": [
    "a=\"world\"\n",
    "b=\"hello\""
   ]
  },
  {
   "cell_type": "code",
   "execution_count": null,
   "id": "98818120",
   "metadata": {},
   "outputs": [],
   "source": [
    "a+b"
   ]
  },
  {
   "cell_type": "code",
   "execution_count": null,
   "id": "c4acef9d",
   "metadata": {},
   "outputs": [],
   "source": [
    "a+\" \"+b"
   ]
  },
  {
   "cell_type": "code",
   "execution_count": null,
   "id": "4f5edb00",
   "metadata": {},
   "outputs": [],
   "source": [
    "#find\n",
    "a.find(\"hello\")"
   ]
  },
  {
   "cell_type": "code",
   "execution_count": null,
   "id": "1b96d2d9",
   "metadata": {},
   "outputs": [],
   "source": [
    "a.find(\"world\")"
   ]
  },
  {
   "cell_type": "code",
   "execution_count": null,
   "id": "69cef3be",
   "metadata": {},
   "outputs": [],
   "source": [
    "#replace\n",
    "a.replace(\"world\",\"hello how are you\")#shift+tab-will find "
   ]
  },
  {
   "cell_type": "code",
   "execution_count": null,
   "id": "1a9b987c",
   "metadata": {},
   "outputs": [],
   "source": [
    "#split\n",
    "c=\"hello how are you\"\n",
    "c.split()"
   ]
  },
  {
   "cell_type": "code",
   "execution_count": null,
   "id": "9216bd6f",
   "metadata": {},
   "outputs": [],
   "source": [
    "name=\"anand krishnan\""
   ]
  },
  {
   "cell_type": "code",
   "execution_count": null,
   "id": "cfad5f5d",
   "metadata": {},
   "outputs": [],
   "source": [
    "name.split(\",\")#remove  the coma put it as single element in list"
   ]
  },
  {
   "cell_type": "code",
   "execution_count": null,
   "id": "cc11bab7",
   "metadata": {},
   "outputs": [],
   "source": [
    "#strip\n",
    "city=\"banglore hebbal  \""
   ]
  },
  {
   "cell_type": "code",
   "execution_count": null,
   "id": "d4cad057",
   "metadata": {},
   "outputs": [],
   "source": [
    "city.strip()# it will only remove exes space"
   ]
  },
  {
   "cell_type": "code",
   "execution_count": null,
   "id": "c0e6ba7a",
   "metadata": {},
   "outputs": [],
   "source": [
    "city"
   ]
  },
  {
   "cell_type": "code",
   "execution_count": null,
   "id": "9c26047d",
   "metadata": {},
   "outputs": [],
   "source": [
    "#mutiple line\n",
    "mul_line=\"\"\"The observation, identification, description, experimental investigation, and theoretical explanation of phenomena.\n",
    "new advances in science and technology.''\n",
    "\"Such activities restricted to a class of natural phenomena.\n",
    "the science of astronomy.\"\n",
    "A systematic method or body of knowledge in a given area.\n",
    "the science of marketing.\"\"\"\n",
    "print(mul_line)"
   ]
  },
  {
   "cell_type": "code",
   "execution_count": null,
   "id": "0351ea7e",
   "metadata": {},
   "outputs": [],
   "source": [
    "mul_line.replace('experimental investigation',\" \")"
   ]
  },
  {
   "cell_type": "markdown",
   "id": "0ffe09a9",
   "metadata": {},
   "source": [
    "## list\n",
    "\n",
    "list is a build in data type\n",
    "\n",
    "mutale\n",
    "\n",
    "hetrogenios\n",
    "\n",
    "orderd\n",
    "\n"
   ]
  },
  {
   "cell_type": "code",
   "execution_count": null,
   "id": "14c8704e",
   "metadata": {},
   "outputs": [],
   "source": [
    "list=[]"
   ]
  },
  {
   "cell_type": "code",
   "execution_count": null,
   "id": "81da57a6",
   "metadata": {},
   "outputs": [],
   "source": [
    "type(list)"
   ]
  },
  {
   "cell_type": "code",
   "execution_count": null,
   "id": "b3b8e17d",
   "metadata": {},
   "outputs": [],
   "source": [
    "list=[1,\"s\",1.6,1+3j]"
   ]
  },
  {
   "cell_type": "code",
   "execution_count": null,
   "id": "c48bba21",
   "metadata": {},
   "outputs": [],
   "source": [
    "print(list)"
   ]
  },
  {
   "cell_type": "code",
   "execution_count": null,
   "id": "42f58ba9",
   "metadata": {},
   "outputs": [],
   "source": [
    "len(list)"
   ]
  },
  {
   "cell_type": "code",
   "execution_count": null,
   "id": "f142d75f",
   "metadata": {},
   "outputs": [],
   "source": [
    "# acces the item of list\n",
    "list[0]"
   ]
  },
  {
   "cell_type": "code",
   "execution_count": null,
   "id": "9fa44c21",
   "metadata": {},
   "outputs": [],
   "source": [
    "list[3]"
   ]
  },
  {
   "cell_type": "code",
   "execution_count": null,
   "id": "cabd7dbc",
   "metadata": {},
   "outputs": [],
   "source": [
    "list[0:3]"
   ]
  },
  {
   "cell_type": "code",
   "execution_count": null,
   "id": "0806342b",
   "metadata": {},
   "outputs": [],
   "source": [
    "list[0:4]#while slising give one upper value"
   ]
  },
  {
   "cell_type": "code",
   "execution_count": null,
   "id": "045092e7",
   "metadata": {},
   "outputs": [],
   "source": [
    "#print in the reverse\n",
    "list[::-1]"
   ]
  },
  {
   "cell_type": "code",
   "execution_count": null,
   "id": "d9c7df9a",
   "metadata": {},
   "outputs": [],
   "source": [
    "#acces item in actual direction and skip 1 item in between\n",
    "list[::2]"
   ]
  },
  {
   "cell_type": "code",
   "execution_count": null,
   "id": "4cebee19",
   "metadata": {},
   "outputs": [],
   "source": [
    "list[::3]"
   ]
  },
  {
   "cell_type": "code",
   "execution_count": null,
   "id": "005a3188",
   "metadata": {},
   "outputs": [],
   "source": [
    "#checking the items\n",
    "list=[1,\"s\",1.6,1+3j]\n",
    "1 in list"
   ]
  },
  {
   "cell_type": "code",
   "execution_count": null,
   "id": "3024f59e",
   "metadata": {},
   "outputs": [],
   "source": [
    "list=[1,\"s\",1.6,1+3j]\n",
    "\"s\" in list"
   ]
  },
  {
   "cell_type": "markdown",
   "id": "57fc785a",
   "metadata": {},
   "source": [
    "## insert , append and extend"
   ]
  },
  {
   "cell_type": "code",
   "execution_count": null,
   "id": "c7894639",
   "metadata": {},
   "outputs": [],
   "source": [
    "#append operation in list\n",
    "a= 23"
   ]
  },
  {
   "cell_type": "code",
   "execution_count": null,
   "id": "ae352eb8",
   "metadata": {},
   "outputs": [],
   "source": [
    "list.append(a)"
   ]
  },
  {
   "cell_type": "code",
   "execution_count": null,
   "id": "a9c5a2c6",
   "metadata": {},
   "outputs": [],
   "source": [
    "list"
   ]
  },
  {
   "cell_type": "code",
   "execution_count": null,
   "id": "a8bfc3f9",
   "metadata": {},
   "outputs": [],
   "source": [
    "list1= [2,3,4]"
   ]
  },
  {
   "cell_type": "code",
   "execution_count": null,
   "id": "b22493b7",
   "metadata": {},
   "outputs": [],
   "source": [
    "list.append(list1)"
   ]
  },
  {
   "cell_type": "code",
   "execution_count": null,
   "id": "df416d7f",
   "metadata": {},
   "outputs": [],
   "source": [
    "list"
   ]
  },
  {
   "cell_type": "code",
   "execution_count": null,
   "id": "ba44c67f",
   "metadata": {},
   "outputs": [],
   "source": [
    "list[-1]"
   ]
  },
  {
   "cell_type": "code",
   "execution_count": null,
   "id": "43effd6f",
   "metadata": {},
   "outputs": [],
   "source": [
    "list[-1][1]"
   ]
  },
  {
   "cell_type": "code",
   "execution_count": null,
   "id": "34804d11",
   "metadata": {},
   "outputs": [],
   "source": [
    "list[-1][1]=\"hello\""
   ]
  },
  {
   "cell_type": "code",
   "execution_count": null,
   "id": "f82e481c",
   "metadata": {},
   "outputs": [],
   "source": [
    "list"
   ]
  },
  {
   "cell_type": "code",
   "execution_count": null,
   "id": "27b4dda9",
   "metadata": {},
   "outputs": [],
   "source": [
    "#add list extend\n",
    "list.extend(list1)"
   ]
  },
  {
   "cell_type": "code",
   "execution_count": null,
   "id": "20b1db4b",
   "metadata": {},
   "outputs": [],
   "source": [
    "list"
   ]
  },
  {
   "cell_type": "code",
   "execution_count": null,
   "id": "7e92c9dd",
   "metadata": {},
   "outputs": [],
   "source": [
    "#add item between using insert\n",
    "l=23\n",
    "list.insert(1,l)"
   ]
  },
  {
   "cell_type": "code",
   "execution_count": null,
   "id": "3799a7bc",
   "metadata": {},
   "outputs": [],
   "source": [
    "list"
   ]
  },
  {
   "cell_type": "code",
   "execution_count": null,
   "id": "228a03ab",
   "metadata": {},
   "outputs": [],
   "source": [
    "#remove an item  using item name\n",
    "list.remove(1)"
   ]
  },
  {
   "cell_type": "code",
   "execution_count": null,
   "id": "ff5202e7",
   "metadata": {},
   "outputs": [],
   "source": [
    "list"
   ]
  },
  {
   "cell_type": "code",
   "execution_count": null,
   "id": "3eb268d1",
   "metadata": {},
   "outputs": [],
   "source": [
    "list.remove([2, 'hello', 4])"
   ]
  },
  {
   "cell_type": "code",
   "execution_count": null,
   "id": "b377da72",
   "metadata": {},
   "outputs": [],
   "source": [
    "list"
   ]
  },
  {
   "cell_type": "code",
   "execution_count": null,
   "id": "5c3f4262",
   "metadata": {},
   "outputs": [],
   "source": [
    "#it remove using index\n",
    "list.pop(0)"
   ]
  },
  {
   "cell_type": "code",
   "execution_count": null,
   "id": "47608d36",
   "metadata": {},
   "outputs": [],
   "source": [
    "list"
   ]
  },
  {
   "cell_type": "code",
   "execution_count": null,
   "id": "c97fdf61",
   "metadata": {},
   "outputs": [],
   "source": [
    "list.pop(1)"
   ]
  },
  {
   "cell_type": "code",
   "execution_count": null,
   "id": "7faf9919",
   "metadata": {},
   "outputs": [],
   "source": [
    "list"
   ]
  },
  {
   "cell_type": "code",
   "execution_count": null,
   "id": "c51541e0",
   "metadata": {},
   "outputs": [],
   "source": [
    "#del-delete list"
   ]
  },
  {
   "cell_type": "code",
   "execution_count": null,
   "id": "144bfeac",
   "metadata": {},
   "outputs": [],
   "source": [
    "del list1"
   ]
  },
  {
   "cell_type": "code",
   "execution_count": null,
   "id": "8d101f97",
   "metadata": {},
   "outputs": [],
   "source": [
    "#concardination adding of two list\n",
    "list2=[\"hi\",\"hello\",\"how\"]"
   ]
  },
  {
   "cell_type": "raw",
   "id": "ee5082dc",
   "metadata": {},
   "source": [
    "list3 = list + list2"
   ]
  },
  {
   "cell_type": "code",
   "execution_count": null,
   "id": "c8bc6a12",
   "metadata": {},
   "outputs": [],
   "source": [
    "list3"
   ]
  },
  {
   "cell_type": "code",
   "execution_count": null,
   "id": "e7468c62",
   "metadata": {},
   "outputs": [],
   "source": [
    "#min max sum\n",
    "l=[1,2,3,4,5]\n",
    "min(l)"
   ]
  },
  {
   "cell_type": "code",
   "execution_count": null,
   "id": "0768e9d1",
   "metadata": {},
   "outputs": [],
   "source": [
    "max(l)"
   ]
  },
  {
   "cell_type": "code",
   "execution_count": null,
   "id": "a5ff619c",
   "metadata": {},
   "outputs": [],
   "source": [
    "sum(l)"
   ]
  },
  {
   "cell_type": "code",
   "execution_count": null,
   "id": "0aac0e44",
   "metadata": {},
   "outputs": [],
   "source": [
    "l.count(1) #cound the repetation"
   ]
  },
  {
   "cell_type": "code",
   "execution_count": null,
   "id": "a8de1e72",
   "metadata": {},
   "outputs": [],
   "source": [
    "l.sort() #arrige the data\n",
    "l"
   ]
  },
  {
   "cell_type": "code",
   "execution_count": null,
   "id": "25c8e22a",
   "metadata": {},
   "outputs": [],
   "source": [
    "l[::-1]"
   ]
  },
  {
   "cell_type": "code",
   "execution_count": null,
   "id": "bfc72fcc",
   "metadata": {},
   "outputs": [],
   "source": [
    "li=l+list2 #concardination"
   ]
  },
  {
   "cell_type": "code",
   "execution_count": null,
   "id": "5b0eacae",
   "metadata": {},
   "outputs": [],
   "source": [
    "li"
   ]
  },
  {
   "cell_type": "code",
   "execution_count": null,
   "id": "bd7b5c11",
   "metadata": {},
   "outputs": [],
   "source": [
    "l.sort(reverse=True) #desending order"
   ]
  },
  {
   "cell_type": "code",
   "execution_count": null,
   "id": "f3c9c5ec",
   "metadata": {},
   "outputs": [],
   "source": [
    "l"
   ]
  },
  {
   "cell_type": "code",
   "execution_count": null,
   "id": "d65dceb9",
   "metadata": {},
   "outputs": [],
   "source": [
    "#write python code to find  the area of  circle and return the list with area\n",
    "pie=3.14\n",
    "r= float(input(\"enter the radius=\"))\n",
    "area=pie*(r**2)\n",
    "lista=[]\n",
    "lista.append(area)\n",
    "print(lista)"
   ]
  },
  {
   "cell_type": "code",
   "execution_count": null,
   "id": "3d5a3c86",
   "metadata": {},
   "outputs": [],
   "source": [
    "#Create a list called numbers that contains the following integers:\n",
    "numbers=[10,20,30,40,50]"
   ]
  },
  {
   "cell_type": "code",
   "execution_count": null,
   "id": "cecb1c73",
   "metadata": {},
   "outputs": [],
   "source": [
    "numbers"
   ]
  },
  {
   "cell_type": "code",
   "execution_count": null,
   "id": "7c3eb53d",
   "metadata": {},
   "outputs": [],
   "source": [
    "numbers.append(60)\n",
    "numbers.append(70)"
   ]
  },
  {
   "cell_type": "code",
   "execution_count": null,
   "id": "84f26c6c",
   "metadata": {},
   "outputs": [],
   "source": [
    "numbers"
   ]
  },
  {
   "cell_type": "code",
   "execution_count": null,
   "id": "1c5b5076",
   "metadata": {},
   "outputs": [],
   "source": [
    "numbers.remove(30)\n"
   ]
  },
  {
   "cell_type": "code",
   "execution_count": null,
   "id": "2632e93c",
   "metadata": {},
   "outputs": [],
   "source": [
    "numbers"
   ]
  },
  {
   "cell_type": "code",
   "execution_count": null,
   "id": "b0ba43da",
   "metadata": {},
   "outputs": [],
   "source": [
    "numbers.sort(reverse=True)"
   ]
  },
  {
   "cell_type": "code",
   "execution_count": null,
   "id": "542863d3",
   "metadata": {},
   "outputs": [],
   "source": [
    "numbers"
   ]
  },
  {
   "cell_type": "code",
   "execution_count": null,
   "id": "06005a96",
   "metadata": {},
   "outputs": [],
   "source": [
    "max(numbers)"
   ]
  },
  {
   "cell_type": "code",
   "execution_count": null,
   "id": "83b554e5",
   "metadata": {},
   "outputs": [],
   "source": [
    "min(numbers)"
   ]
  },
  {
   "cell_type": "code",
   "execution_count": null,
   "id": "4e233e58",
   "metadata": {},
   "outputs": [],
   "source": [
    "numbers.count(20)"
   ]
  },
  {
   "cell_type": "code",
   "execution_count": null,
   "id": "d46fad60",
   "metadata": {},
   "outputs": [],
   "source": [
    "sum(numbers)"
   ]
  },
  {
   "cell_type": "code",
   "execution_count": null,
   "id": "c942990e",
   "metadata": {},
   "outputs": [],
   "source": [
    "vec=[\"TrafFic\",\"Web\",\"IP\",\"GRC\" ]"
   ]
  },
  {
   "cell_type": "code",
   "execution_count": null,
   "id": "e7faeae1",
   "metadata": {},
   "outputs": [],
   "source": [
    "numbers=numbers+vec"
   ]
  },
  {
   "cell_type": "code",
   "execution_count": null,
   "id": "5d240557",
   "metadata": {},
   "outputs": [],
   "source": [
    "numbers"
   ]
  },
  {
   "cell_type": "code",
   "execution_count": null,
   "id": "37ee0c21",
   "metadata": {},
   "outputs": [],
   "source": [
    "numbers[::-1]"
   ]
  },
  {
   "cell_type": "code",
   "execution_count": null,
   "id": "90305a92",
   "metadata": {},
   "outputs": [],
   "source": [
    "#write a python code to convert temperature to celcious to farenheat\n",
    "celcious= float(input(\"enter the celcious=\"))\n",
    "farenheat= (celcious*(9/5))+32\n",
    "print(farenheat)"
   ]
  },
  {
   "cell_type": "markdown",
   "id": "7ba49629",
   "metadata": {},
   "source": [
    "## tuple\n",
    "\n",
    "orderd immutable\n",
    "\n",
    "buildin data type\n"
   ]
  },
  {
   "cell_type": "code",
   "execution_count": null,
   "id": "80c2fbad",
   "metadata": {},
   "outputs": [],
   "source": [
    "a=1,2,3,4"
   ]
  },
  {
   "cell_type": "code",
   "execution_count": null,
   "id": "800873f1",
   "metadata": {},
   "outputs": [],
   "source": [
    "a"
   ]
  },
  {
   "cell_type": "code",
   "execution_count": null,
   "id": "6f992d0a",
   "metadata": {},
   "outputs": [],
   "source": [
    "b=(1,2,3,4,5,6)"
   ]
  },
  {
   "cell_type": "code",
   "execution_count": null,
   "id": "2a23f15e",
   "metadata": {},
   "outputs": [],
   "source": [
    "b"
   ]
  },
  {
   "cell_type": "code",
   "execution_count": null,
   "id": "0f346772",
   "metadata": {},
   "outputs": [],
   "source": [
    "c=[1,2,3,4]"
   ]
  },
  {
   "cell_type": "code",
   "execution_count": null,
   "id": "9d1e04dd",
   "metadata": {},
   "outputs": [],
   "source": [
    "c"
   ]
  },
  {
   "cell_type": "code",
   "execution_count": null,
   "id": "481debd4",
   "metadata": {},
   "outputs": [],
   "source": [
    "d=tuple(c)"
   ]
  },
  {
   "cell_type": "code",
   "execution_count": null,
   "id": "1c666d01",
   "metadata": {},
   "outputs": [],
   "source": [
    "d"
   ]
  },
  {
   "cell_type": "code",
   "execution_count": null,
   "id": "34f59af9",
   "metadata": {},
   "outputs": [],
   "source": [
    "e=list(d)#covert to list"
   ]
  },
  {
   "cell_type": "code",
   "execution_count": null,
   "id": "913ab707",
   "metadata": {},
   "outputs": [],
   "source": [
    "e"
   ]
  },
  {
   "cell_type": "code",
   "execution_count": null,
   "id": "3204cf4e",
   "metadata": {},
   "outputs": [],
   "source": [
    "f=(1,2,3,\"a\",3+4j)"
   ]
  },
  {
   "cell_type": "code",
   "execution_count": null,
   "id": "50b404fb",
   "metadata": {},
   "outputs": [],
   "source": [
    "f[4]"
   ]
  },
  {
   "cell_type": "code",
   "execution_count": null,
   "id": "792afba0",
   "metadata": {},
   "outputs": [],
   "source": [
    "f[1::3]"
   ]
  },
  {
   "cell_type": "code",
   "execution_count": null,
   "id": "f6dc3c4a",
   "metadata": {},
   "outputs": [],
   "source": [
    "f[::-1]"
   ]
  },
  {
   "cell_type": "code",
   "execution_count": null,
   "id": "c15702b0",
   "metadata": {},
   "outputs": [],
   "source": [
    "f[-3::-1]"
   ]
  },
  {
   "cell_type": "code",
   "execution_count": null,
   "id": "dc56835e",
   "metadata": {},
   "outputs": [],
   "source": [
    "len(f)"
   ]
  },
  {
   "cell_type": "code",
   "execution_count": null,
   "id": "aa6f8aa4",
   "metadata": {},
   "outputs": [],
   "source": [
    "sum(a)"
   ]
  },
  {
   "cell_type": "code",
   "execution_count": null,
   "id": "e68281f4",
   "metadata": {},
   "outputs": [],
   "source": [
    "max(a)"
   ]
  },
  {
   "cell_type": "code",
   "execution_count": null,
   "id": "8fab5ebd",
   "metadata": {},
   "outputs": [],
   "source": [
    "min(a)"
   ]
  },
  {
   "cell_type": "code",
   "execution_count": null,
   "id": "0a395a6d",
   "metadata": {},
   "outputs": [],
   "source": [
    "a*2"
   ]
  },
  {
   "cell_type": "code",
   "execution_count": null,
   "id": "eba70dfb",
   "metadata": {},
   "outputs": [],
   "source": [
    "a*3"
   ]
  },
  {
   "cell_type": "code",
   "execution_count": null,
   "id": "5dec2d55",
   "metadata": {},
   "outputs": [],
   "source": [
    "e*2"
   ]
  },
  {
   "cell_type": "code",
   "execution_count": null,
   "id": "ffc06519",
   "metadata": {},
   "outputs": [],
   "source": [
    "f=a+f"
   ]
  },
  {
   "cell_type": "code",
   "execution_count": null,
   "id": "9eb453b7",
   "metadata": {},
   "outputs": [],
   "source": [
    "f"
   ]
  },
  {
   "cell_type": "code",
   "execution_count": null,
   "id": "cd302403",
   "metadata": {},
   "outputs": [],
   "source": [
    "sorted(a)"
   ]
  },
  {
   "cell_type": "code",
   "execution_count": null,
   "id": "f60ed583",
   "metadata": {},
   "outputs": [],
   "source": [
    "del a"
   ]
  },
  {
   "cell_type": "code",
   "execution_count": null,
   "id": "2b6cf149",
   "metadata": {},
   "outputs": [],
   "source": [
    "f=list(f)#converting the value of tuple using list\n",
    "f[1]=34\n",
    "f=tuple(f)\n",
    "f"
   ]
  },
  {
   "cell_type": "code",
   "execution_count": null,
   "id": "2f9ceeaa",
   "metadata": {},
   "outputs": [],
   "source": [
    "f=list(f)\n",
    "f[-1]=200\n",
    "f=tuple(f)\n",
    "f"
   ]
  },
  {
   "cell_type": "markdown",
   "id": "ec61ba1e",
   "metadata": {},
   "source": [
    "# day 4\n",
    "\n",
    "## set and dictionary"
   ]
  },
  {
   "cell_type": "markdown",
   "id": "60e44a06",
   "metadata": {},
   "source": [
    "### set\n",
    "\n",
    "set store unique value\n",
    "\n",
    "unorderd collection\n",
    "\n",
    "mathematical concept\n",
    "\n",
    "operation-"
   ]
  },
  {
   "cell_type": "code",
   "execution_count": null,
   "id": "6eb26ea3",
   "metadata": {},
   "outputs": [],
   "source": [
    "a={}"
   ]
  },
  {
   "cell_type": "code",
   "execution_count": null,
   "id": "040e1040",
   "metadata": {},
   "outputs": [],
   "source": [
    "type(a)"
   ]
  },
  {
   "cell_type": "code",
   "execution_count": null,
   "id": "c5af388e",
   "metadata": {},
   "outputs": [],
   "source": [
    "a=set({})"
   ]
  },
  {
   "cell_type": "code",
   "execution_count": null,
   "id": "5c0f6db3",
   "metadata": {},
   "outputs": [],
   "source": [
    "type(a)"
   ]
  },
  {
   "cell_type": "code",
   "execution_count": null,
   "id": "37c3f69d",
   "metadata": {},
   "outputs": [],
   "source": [
    "set_1 = {1,2,1,2,1,2,43,45,34,65,9,\"hello\",8+2j}"
   ]
  },
  {
   "cell_type": "code",
   "execution_count": null,
   "id": "29c367cb",
   "metadata": {},
   "outputs": [],
   "source": [
    "set_1"
   ]
  },
  {
   "cell_type": "code",
   "execution_count": null,
   "id": "56278130",
   "metadata": {},
   "outputs": [],
   "source": [
    "#length\n",
    "len(set_1)"
   ]
  },
  {
   "cell_type": "code",
   "execution_count": null,
   "id": "cbe350d5",
   "metadata": {},
   "outputs": [],
   "source": [
    "a=545\n",
    "set_1.add(a)\n",
    "set_1"
   ]
  },
  {
   "cell_type": "code",
   "execution_count": null,
   "id": "61f99eda",
   "metadata": {},
   "outputs": [],
   "source": [
    "set2={\"pyth\",\"besenth\",89,90}"
   ]
  },
  {
   "cell_type": "code",
   "execution_count": null,
   "id": "5b202d24",
   "metadata": {},
   "outputs": [],
   "source": [
    "set2"
   ]
  },
  {
   "cell_type": "code",
   "execution_count": null,
   "id": "cb3fbd9f",
   "metadata": {},
   "outputs": [],
   "source": [
    "set_1.update(set2) #if two or more value you canot use \"add\" and you need to use \"update\"\n",
    "set_1"
   ]
  },
  {
   "cell_type": "code",
   "execution_count": null,
   "id": "adfafa16",
   "metadata": {},
   "outputs": [],
   "source": [
    "#list remove duplicate from list\n",
    "li=[4,4,5,5,7,7,7,78,8,8,56,56,\"heb\",\"heb\"]"
   ]
  },
  {
   "cell_type": "code",
   "execution_count": null,
   "id": "64aa7fdb",
   "metadata": {},
   "outputs": [],
   "source": [
    "li=set(li)\n",
    "li=list(li)\n",
    "li"
   ]
  },
  {
   "cell_type": "code",
   "execution_count": null,
   "id": "a655d3e2",
   "metadata": {},
   "outputs": [],
   "source": [
    "li"
   ]
  },
  {
   "cell_type": "code",
   "execution_count": null,
   "id": "1473e6ff",
   "metadata": {},
   "outputs": [],
   "source": []
  },
  {
   "cell_type": "code",
   "execution_count": null,
   "id": "409c1f9d",
   "metadata": {},
   "outputs": [],
   "source": [
    "li"
   ]
  },
  {
   "cell_type": "code",
   "execution_count": null,
   "id": "a1b6fccd",
   "metadata": {},
   "outputs": [],
   "source": [
    "set_1.pop()"
   ]
  },
  {
   "cell_type": "code",
   "execution_count": null,
   "id": "905bdd39",
   "metadata": {},
   "outputs": [],
   "source": [
    "set_1.pop()"
   ]
  },
  {
   "cell_type": "code",
   "execution_count": null,
   "id": "7870cad5",
   "metadata": {},
   "outputs": [],
   "source": [
    "#remove\n",
    "li.remove(78)# remove only one element each operation"
   ]
  },
  {
   "cell_type": "code",
   "execution_count": null,
   "id": "3607188a",
   "metadata": {},
   "outputs": [],
   "source": [
    "li"
   ]
  },
  {
   "cell_type": "code",
   "execution_count": null,
   "id": "5ca9846a",
   "metadata": {},
   "outputs": [],
   "source": [
    "set_1"
   ]
  },
  {
   "cell_type": "code",
   "execution_count": null,
   "id": "f42161e1",
   "metadata": {},
   "outputs": [],
   "source": [
    "set_1.remove(43)"
   ]
  },
  {
   "cell_type": "code",
   "execution_count": null,
   "id": "42f508e0",
   "metadata": {},
   "outputs": [],
   "source": [
    "#discard\n",
    "set_1.discard(set2)#one same element fill remove each time"
   ]
  },
  {
   "cell_type": "code",
   "execution_count": null,
   "id": "5c182944",
   "metadata": {},
   "outputs": [],
   "source": [
    "set_1"
   ]
  },
  {
   "cell_type": "code",
   "execution_count": null,
   "id": "36ba7e45",
   "metadata": {},
   "outputs": [],
   "source": [
    "set_1.discard(set2)"
   ]
  },
  {
   "cell_type": "code",
   "execution_count": null,
   "id": "e5c0ca41",
   "metadata": {},
   "outputs": [],
   "source": [
    "set_1"
   ]
  },
  {
   "cell_type": "code",
   "execution_count": null,
   "id": "a3359f3b",
   "metadata": {},
   "outputs": [],
   "source": [
    "# differnce_update\n",
    "set3={45,545,65}\n",
    "set_1.difference_update(set3)# common element will be removed\n"
   ]
  },
  {
   "cell_type": "code",
   "execution_count": null,
   "id": "765707c8",
   "metadata": {},
   "outputs": [],
   "source": [
    "set_1\n"
   ]
  },
  {
   "cell_type": "code",
   "execution_count": null,
   "id": "357a468c",
   "metadata": {},
   "outputs": [],
   "source": [
    "#difine new set of intiger-sum\n",
    "s={1,2,3,4,5,6,7,8,9}\n",
    "sum(s)"
   ]
  },
  {
   "cell_type": "code",
   "execution_count": null,
   "id": "afb780e1",
   "metadata": {},
   "outputs": [],
   "source": [
    "#union\n",
    "s1={1,4,7,9,76,87,9,7,6,5,4,3,2}\n",
    "s2={\"gh\",\"uy\",\"io\",\"ui\"}"
   ]
  },
  {
   "cell_type": "code",
   "execution_count": null,
   "id": "e4d57e11",
   "metadata": {},
   "outputs": [],
   "source": [
    "s1.update(s2)"
   ]
  },
  {
   "cell_type": "code",
   "execution_count": null,
   "id": "7a92992d",
   "metadata": {},
   "outputs": [],
   "source": [
    "s1"
   ]
  },
  {
   "cell_type": "code",
   "execution_count": null,
   "id": "12a7a7e7",
   "metadata": {},
   "outputs": [],
   "source": [
    "s1|s2#unnion"
   ]
  },
  {
   "cell_type": "code",
   "execution_count": null,
   "id": "f481746e",
   "metadata": {},
   "outputs": [],
   "source": [
    "s1|s2|set_1|set2|set3 #it can add mulyiple set at a time"
   ]
  },
  {
   "cell_type": "code",
   "execution_count": null,
   "id": "64cbb768",
   "metadata": {},
   "outputs": [],
   "source": [
    "#intersection\n",
    "s1"
   ]
  },
  {
   "cell_type": "code",
   "execution_count": null,
   "id": "6de5a7bb",
   "metadata": {},
   "outputs": [],
   "source": [
    "s2"
   ]
  },
  {
   "cell_type": "code",
   "execution_count": null,
   "id": "260f85d4",
   "metadata": {},
   "outputs": [],
   "source": [
    "s1 & s2 #intersection"
   ]
  },
  {
   "cell_type": "code",
   "execution_count": null,
   "id": "54e64914",
   "metadata": {},
   "outputs": [],
   "source": [
    "s3={\"gh\"}"
   ]
  },
  {
   "cell_type": "code",
   "execution_count": null,
   "id": "58e7fba4",
   "metadata": {},
   "outputs": [],
   "source": [
    "s1 & s2 & s3"
   ]
  },
  {
   "cell_type": "code",
   "execution_count": null,
   "id": "4becdb9e",
   "metadata": {},
   "outputs": [],
   "source": [
    "# difference\n",
    "s1-s2"
   ]
  },
  {
   "cell_type": "code",
   "execution_count": null,
   "id": "115829f7",
   "metadata": {},
   "outputs": [],
   "source": [
    "s2-s1"
   ]
  },
  {
   "cell_type": "code",
   "execution_count": null,
   "id": "1d97fa3b",
   "metadata": {},
   "outputs": [],
   "source": [
    "#l1 l2 two list find out the elemt -element of l2 not in l1\n",
    "l1=[1,4,6,87,98,9,]\n",
    "l2=[1,2,3,4,5,6,78]\n",
    "l1=set(l1)\n",
    "l2=set(l2)\n",
    "l2=l2-l1\n",
    "l2=list(l2)\n",
    "l2"
   ]
  },
  {
   "cell_type": "code",
   "execution_count": null,
   "id": "3dabd31a",
   "metadata": {},
   "outputs": [],
   "source": []
  },
  {
   "cell_type": "markdown",
   "id": "5f7f62e3",
   "metadata": {},
   "source": [
    "# day5\n"
   ]
  },
  {
   "cell_type": "code",
   "execution_count": null,
   "id": "f82152e1",
   "metadata": {},
   "outputs": [],
   "source": [
    "#symmetric difference\n",
    "seta={1,2,3,4,5,6}\n",
    "setb={4,5,6,7,8.9}\n",
    "s1=seta-setb\n",
    "s2=setb-seta\n"
   ]
  },
  {
   "cell_type": "code",
   "execution_count": null,
   "id": "c091f173",
   "metadata": {},
   "outputs": [],
   "source": [
    "s1"
   ]
  },
  {
   "cell_type": "code",
   "execution_count": null,
   "id": "bd56ffa6",
   "metadata": {},
   "outputs": [],
   "source": [
    "s2"
   ]
  },
  {
   "cell_type": "code",
   "execution_count": null,
   "id": "26d360cc",
   "metadata": {},
   "outputs": [],
   "source": [
    "s1^s2#intersection"
   ]
  },
  {
   "cell_type": "code",
   "execution_count": null,
   "id": "e6a82a25",
   "metadata": {},
   "outputs": [],
   "source": [
    "seta^setb"
   ]
  },
  {
   "cell_type": "markdown",
   "id": "5e316913",
   "metadata": {},
   "source": [
    "## dictionary\n",
    "\n",
    "inbuild datatype\n",
    "\n",
    "key value pairs"
   ]
  },
  {
   "cell_type": "code",
   "execution_count": null,
   "id": "30dbed81",
   "metadata": {},
   "outputs": [],
   "source": [
    "dict={}"
   ]
  },
  {
   "cell_type": "code",
   "execution_count": null,
   "id": "32e25774",
   "metadata": {},
   "outputs": [],
   "source": [
    "type(dict)"
   ]
  },
  {
   "cell_type": "code",
   "execution_count": null,
   "id": "c5c169e1",
   "metadata": {},
   "outputs": [],
   "source": [
    "\n",
    "dict1={\"name\":\"anand\",\"age\":23,\"city\":\"calicut\",\"profile\":\"dev\"}"
   ]
  },
  {
   "cell_type": "code",
   "execution_count": null,
   "id": "c4a0d699",
   "metadata": {},
   "outputs": [],
   "source": [
    "dict1"
   ]
  },
  {
   "cell_type": "code",
   "execution_count": null,
   "id": "58c05194",
   "metadata": {},
   "outputs": [],
   "source": [
    "dict1[\"name\"]"
   ]
  },
  {
   "cell_type": "code",
   "execution_count": null,
   "id": "c98e1abc",
   "metadata": {},
   "outputs": [],
   "source": [
    "dict1.keys()"
   ]
  },
  {
   "cell_type": "code",
   "execution_count": null,
   "id": "dc2a055c",
   "metadata": {},
   "outputs": [],
   "source": [
    "dict1.items()"
   ]
  },
  {
   "cell_type": "code",
   "execution_count": null,
   "id": "3b3da909",
   "metadata": {},
   "outputs": [],
   "source": [
    "dict1[\"name\"]=\"nandhu\"#chainge value using key"
   ]
  },
  {
   "cell_type": "code",
   "execution_count": null,
   "id": "3114cf95",
   "metadata": {},
   "outputs": [],
   "source": [
    "dict1"
   ]
  },
  {
   "cell_type": "code",
   "execution_count": null,
   "id": "eb998a72",
   "metadata": {},
   "outputs": [],
   "source": [
    "dict1[\"company\"]=\"apple\"# add new key and value to dictionary"
   ]
  },
  {
   "cell_type": "code",
   "execution_count": null,
   "id": "673b1f9d",
   "metadata": {},
   "outputs": [],
   "source": [
    "dict1"
   ]
  },
  {
   "cell_type": "code",
   "execution_count": null,
   "id": "28d3558a",
   "metadata": {},
   "outputs": [],
   "source": [
    "dict1.pop(\"profile\")#remove item"
   ]
  },
  {
   "cell_type": "code",
   "execution_count": null,
   "id": "fafbcde6",
   "metadata": {},
   "outputs": [],
   "source": [
    "dict1"
   ]
  },
  {
   "cell_type": "code",
   "execution_count": null,
   "id": "2a9e59ae",
   "metadata": {},
   "outputs": [],
   "source": [
    "dict1[\"fruits\"]=[\"pappaya\",\"banana\",\"apple\"]#add list of item"
   ]
  },
  {
   "cell_type": "code",
   "execution_count": null,
   "id": "555dc37f",
   "metadata": {},
   "outputs": [],
   "source": [
    "dict1"
   ]
  },
  {
   "cell_type": "code",
   "execution_count": null,
   "id": "c5ad2cad",
   "metadata": {},
   "outputs": [],
   "source": [
    "dict={1:\"name\",2:\"hello\"}"
   ]
  },
  {
   "cell_type": "code",
   "execution_count": null,
   "id": "21ace5e6",
   "metadata": {},
   "outputs": [],
   "source": [
    "dict"
   ]
  },
  {
   "cell_type": "code",
   "execution_count": null,
   "id": "a10ccbbd",
   "metadata": {},
   "outputs": [],
   "source": [
    "dict1.update(dict)#adding to dictionary"
   ]
  },
  {
   "cell_type": "code",
   "execution_count": null,
   "id": "a37663ee",
   "metadata": {},
   "outputs": [],
   "source": [
    "dict1"
   ]
  },
  {
   "cell_type": "markdown",
   "id": "ee09885c",
   "metadata": {},
   "source": [
    "# control flow in python\n"
   ]
  },
  {
   "cell_type": "code",
   "execution_count": null,
   "id": "823d2156",
   "metadata": {},
   "outputs": [],
   "source": [
    "a=5\n",
    "b=7\n",
    "if b>a:\n",
    "    print(\"b is greter than a\")\n",
    "else:\n",
    "    pass"
   ]
  },
  {
   "cell_type": "code",
   "execution_count": null,
   "id": "089f4568",
   "metadata": {},
   "outputs": [],
   "source": [
    "a=int(input(\"enter value of a=\"))\n",
    "b=int(input(\"enter value of b=\"))\n",
    "if b>a:\n",
    "    print(\"b is greter than a\")\n",
    "else:\n",
    "    print(\"b is lessthan than a\") "
   ]
  },
  {
   "cell_type": "code",
   "execution_count": null,
   "id": "537f16c2",
   "metadata": {},
   "outputs": [],
   "source": [
    "a=5\n",
    "b=3\n",
    "if b>a:\n",
    "    print(\"b is greter than a\")\n",
    "print(\"b is lesstha63n a\")"
   ]
  },
  {
   "cell_type": "code",
   "execution_count": null,
   "id": "0d2fe09c",
   "metadata": {},
   "outputs": [],
   "source": [
    "a=5\n",
    "b=3\n",
    "if b<a:\n",
    "    print(\"b is greter than a\")\n",
    "print(\"b is lesstha63n a\")"
   ]
  },
  {
   "cell_type": "code",
   "execution_count": null,
   "id": "897b4286",
   "metadata": {},
   "outputs": [],
   "source": [
    "a=5\n",
    "b=3\n",
    "if b<a:\n",
    "    print(\"b is greter than a\")\n",
    "else:\n",
    "    print(\"b is lesstha63n a\")"
   ]
  },
  {
   "cell_type": "code",
   "execution_count": null,
   "id": "2c5283cf",
   "metadata": {},
   "outputs": [],
   "source": [
    "a=5\n",
    "b=3\n",
    "if b>a:\n",
    "    print(\"b is greter than a\")\n",
    "else:\n",
    "    print(\"b is lesstha63n a\")"
   ]
  },
  {
   "cell_type": "code",
   "execution_count": null,
   "id": "bd5aadd1",
   "metadata": {},
   "outputs": [],
   "source": [
    "a=int(input(\"enter value of a=\"))\n",
    "b=int(input(\"enter value of b=\"))\n",
    "c=[]\n",
    "d=[]\n",
    "if b>a:\n",
    "    c.append(b)\n",
    "    print(\"b is greter than a\")\n",
    "    print(c)\n",
    "else:\n",
    "    d.append(b)\n",
    "    print(d)\n",
    "    print(\"b is lessthan than a\") "
   ]
  },
  {
   "cell_type": "code",
   "execution_count": null,
   "id": "4ecbb931",
   "metadata": {},
   "outputs": [],
   "source": [
    "c"
   ]
  },
  {
   "cell_type": "code",
   "execution_count": null,
   "id": "216d0c6e",
   "metadata": {},
   "outputs": [],
   "source": [
    "d"
   ]
  },
  {
   "cell_type": "code",
   "execution_count": null,
   "id": "ed50dd64",
   "metadata": {},
   "outputs": [],
   "source": [
    "import random\n",
    "random.randint(1,100)#system generated number"
   ]
  },
  {
   "cell_type": "code",
   "execution_count": null,
   "id": "bb5221b5",
   "metadata": {},
   "outputs": [],
   "source": [
    "\n",
    "a=random.randint(1,100)\n",
    "b=random.randint(1,100)\n",
    "if b>a:\n",
    "    print(\"b is greter than a\")\n",
    "else:\n",
    "    print(\"b is lessthan than a\")\n",
    "print(a)\n",
    "print(b)"
   ]
  },
  {
   "cell_type": "code",
   "execution_count": null,
   "id": "8dca5a80",
   "metadata": {},
   "outputs": [],
   "source": [
    "a=int(input(\"enter value of a=\"))\n",
    "b=random.randint(1,100)\n",
    "if b>a:\n",
    "    print(\"b is greter than a\")\n",
    "else:\n",
    "    print(\"b is lessthan than a\")\n",
    "\n",
    "print(b)"
   ]
  },
  {
   "cell_type": "code",
   "execution_count": null,
   "id": "3ae010ae",
   "metadata": {},
   "outputs": [],
   "source": [
    "#user input identyfy even or odd\n",
    "a=int(input(\"enter the number =\"))\n",
    "if a%2== 0:\n",
    "    print(f\"{a} the number is even\")\n",
    "else:\n",
    "    print(f\"{a}the number is odd\")"
   ]
  },
  {
   "cell_type": "code",
   "execution_count": null,
   "id": "6ac02dd7",
   "metadata": {},
   "outputs": [],
   "source": [
    "#create program -user inputer\n",
    "#i want py completion certificate\n",
    "#yes-assignemnet-cousere-class\n",
    "a=input(\"enter your name= \")\n",
    "a=a.lower()\n",
    "if a== \"anand\" :\n",
    "    print(f\"hi {a} welcome\")\n",
    "    b=input(\"have you completed python couse yes or no\")\n",
    "    b=b.lower()\n",
    "    if b == \"yes\":\n",
    "        c=input(\"have you completed the classes of python yes or no\")\n",
    "        c=c.lower()\n",
    "        if  c==\"yes\":\n",
    "                d=input(\"if you complete assigment yes or no\")\n",
    "                d=d.lower()\n",
    "                if d==\"yes\":\n",
    "                    print(\"you are elegible for the certification\")\n",
    "                else:\n",
    "                    print(\"complete the assigment\")\n",
    "        else:\n",
    "            print(\"complete the class\")\n",
    "    else:\n",
    "        print(\"complete the course\")\n",
    "            \n",
    "else:\n",
    "    print(f\"hi {a} user doesnot exist\")"
   ]
  },
  {
   "cell_type": "code",
   "execution_count": null,
   "id": "a15d322b",
   "metadata": {},
   "outputs": [],
   "source": [
    "#python code for atm operation\n",
    "#book a flight ticket\n",
    "#book a movie ticket"
   ]
  },
  {
   "cell_type": "code",
   "execution_count": 1,
   "id": "9b2df4ab",
   "metadata": {},
   "outputs": [
    {
     "name": "stdout",
     "output_type": "stream",
     "text": [
      "plese  enter the atm card=yes\n",
      "plese don't remove the card\n",
      "please enter your 4 digit pin=1234\n",
      "welcome please choose \n",
      "1:cash vidrawwell\n",
      "2:check balance \n",
      "3 pin chinge\n",
      " account details:\n",
      "enter 1-4=1\n",
      "enter the amount you want to  widraw45000\n",
      "your balance is955000\n",
      "Thank You\n"
     ]
    }
   ],
   "source": [
    "a=input(\"plese  enter the atm card=\")\n",
    "a=a.lower()\n",
    "d=1000000\n",
    "if a==\"yes\":\n",
    "    print(\"plese don't remove the card\")\n",
    "    b=int(input(\"please enter your 4 digit pin=\"))\n",
    "    if b==1234:\n",
    "        print(\"welcome please choose \\n1:cash vidrawwell\\n2:check balance \\n3 pin chinge\\n account details:\")\n",
    "        c=int(input(\"enter 1-4=\"))\n",
    "        if c==1:\n",
    "            e=int(input(\"enter the amount you want to  widraw\"))\n",
    "            f=d-e\n",
    "            print(f\"your balance is{f}\")\n",
    "        if c==2:\n",
    "            print(\"your balance is 2234\")\n",
    "        if c==3:\n",
    "            b=int(input(\"enter the new pin\"))\n",
    "        if c==4:\n",
    "            print(\"Anand ,37464,836355\")\n",
    "        else:\n",
    "            print(\"Thank You\")\n",
    "else:\n",
    "    (\"plase insert the card again\")"
   ]
  },
  {
   "cell_type": "code",
   "execution_count": null,
   "id": "519ced62",
   "metadata": {},
   "outputs": [],
   "source": [
    "#write a code for find is divisible by 3 and 5"
   ]
  },
  {
   "cell_type": "code",
   "execution_count": 6,
   "id": "8584176e",
   "metadata": {},
   "outputs": [
    {
     "name": "stdout",
     "output_type": "stream",
     "text": [
      "enter the number=25\n",
      "divisible by 5\n",
      "25 divisible by 3 & 5\n"
     ]
    }
   ],
   "source": [
    "a=int(input(\"enter the number=\"))\n",
    "if a%3==0:\n",
    "    print (\"divisible by 3\")\n",
    "if a%5==0:\n",
    "    print (\"divisible by 5\")\n",
    "if a%5==0 and a%5==0 :\n",
    "    print (f\"{a} divisible by 3 & 5\")  \n",
    "else:\n",
    "    print(f\"{a} not divisible by 3 and 5\")"
   ]
  },
  {
   "cell_type": "code",
   "execution_count": 8,
   "id": "a507e403",
   "metadata": {},
   "outputs": [
    {
     "name": "stdout",
     "output_type": "stream",
     "text": [
      "enter the number=9\n",
      "divisible by 3 not 5\n"
     ]
    }
   ],
   "source": [
    "a=int(input(\"enter the number=\"))\n",
    "if a%5==0 and a%5==0 :\n",
    "    print (f\"{a} divisible by 3 & 5\")  \n",
    "elif a%3==0 and a%5!=0:\n",
    "    print(\"divisible by 3 not 5\")\n",
    "elif a%5==0 and a%3!=0 :\n",
    "    print(\"divisible by 5 not 3\")\n",
    "else:\n",
    "    print(f\"{a} not divisible by 3 and 5\")"
   ]
  },
  {
   "cell_type": "code",
   "execution_count": 10,
   "id": "5c56df98",
   "metadata": {},
   "outputs": [
    {
     "name": "stdout",
     "output_type": "stream",
     "text": [
      "enter the number=67\n",
      "67 not divisible by 3 and 5\n"
     ]
    }
   ],
   "source": [
    "a=int(input(\"enter the number=\")) #above and this gave gave same result due to above include unnasasary pary !=\n",
    "if a%5==0 and a%5==0 :\n",
    "    print (f\"{a} divisible by 3 & 5\")  \n",
    "elif a%3==0 :\n",
    "    print(\"divisible by 3 not 5\")\n",
    "elif a%5==0 :\n",
    "    print(\"divisible by 5 not 3\")\n",
    "else:\n",
    "    print(f\"{a} not divisible by 3 and 5\")"
   ]
  },
  {
   "cell_type": "markdown",
   "id": "5cdc80a6",
   "metadata": {},
   "source": [
    "#write a code for grading system\n",
    "\n",
    "score>=85 grade=\"A+\"\n",
    "\n",
    "score>=75 grade=\"A\"\n",
    "\n",
    "score>=60 grade=\"B\"\n",
    "\n",
    "score>=50 grade=\"C\"\n",
    "\n",
    "score<50 grade=\"D\""
   ]
  },
  {
   "cell_type": "code",
   "execution_count": 3,
   "id": "5b09ecbe",
   "metadata": {},
   "outputs": [
    {
     "name": "stdout",
     "output_type": "stream",
     "text": [
      "enter the mark of student=49\n",
      "49.0 grade=D\n",
      "fail\n"
     ]
    }
   ],
   "source": [
    "score =float(input(\"enter the mark of student=\"))\n",
    "if score>=85:\n",
    "    print(f\"{score} grade=A+\")\n",
    "elif score>=75:\n",
    "    print(f\"{score} grade=A\")\n",
    "elif score>=60:\n",
    "    print(f\"{score} grade= B\")\n",
    "elif score>=50:\n",
    "    print(f\"{score} grade=C\")\n",
    "else:\n",
    "    print(f\"{score} grade=D\")\n",
    "if score >= 50:\n",
    "    print(\"pass\")\n",
    "else:\n",
    "    print(\"fail\")\n",
    "\n",
    "    "
   ]
  },
  {
   "cell_type": "code",
   "execution_count": 2,
   "id": "f980866a",
   "metadata": {},
   "outputs": [
    {
     "name": "stdout",
     "output_type": "stream",
     "text": [
      "enter the year2022\n",
      "2022 is not a leap year\n"
     ]
    }
   ],
   "source": [
    "#write a code to find year is leap year or not\n",
    "year=int(input(\"enter the year\"))\n",
    "if (year%4==0 and year%100!=0) or year%400==0:\n",
    "    print(f\"{year} is a leap year\")\n",
    "else:\n",
    "    print(f\"{year} is not a leap year\")         "
   ]
  },
  {
   "cell_type": "code",
   "execution_count": 20,
   "id": "00d21ed4",
   "metadata": {},
   "outputs": [
    {
     "ename": "SyntaxError",
     "evalue": "invalid syntax (3289168009.py, line 6)",
     "output_type": "error",
     "traceback": [
      "\u001b[1;36m  File \u001b[1;32m\"C:\\Users\\anand\\AppData\\Local\\Temp\\ipykernel_7616\\3289168009.py\"\u001b[1;36m, line \u001b[1;32m6\u001b[0m\n\u001b[1;33m    if list[0]=\"a,e,i,o,u\":\u001b[0m\n\u001b[1;37m              ^\u001b[0m\n\u001b[1;31mSyntaxError\u001b[0m\u001b[1;31m:\u001b[0m invalid syntax\n"
     ]
    }
   ],
   "source": [
    "#check enter word starting with  viowel or not\n",
    "word=input(\"enter the word\")\n",
    "list=[]\n",
    "list=word.split()\n",
    "#if (list[0]=\"a\" or list[0]=\"e\" or list[0]=\"i\" or list[0]=\"o\" or list[0]=\"u\"):\n",
    "if list[0]=\"a,e,i,o,u\":\n",
    "    print(f\"{list[0] }is a vovel\")\n"
   ]
  },
  {
   "cell_type": "code",
   "execution_count": 5,
   "id": "7c45b8a1",
   "metadata": {},
   "outputs": [
    {
     "name": "stdout",
     "output_type": "stream",
     "text": [
      "enter the word=zpple\n"
     ]
    },
    {
     "ename": "TypeError",
     "evalue": "'builtin_function_or_method' object is not subscriptable",
     "output_type": "error",
     "traceback": [
      "\u001b[1;31m---------------------------------------------------------------------------\u001b[0m",
      "\u001b[1;31mTypeError\u001b[0m                                 Traceback (most recent call last)",
      "\u001b[1;32m~\\AppData\\Local\\Temp\\ipykernel_16268\\1644332071.py\u001b[0m in \u001b[0;36m<module>\u001b[1;34m\u001b[0m\n\u001b[0;32m      2\u001b[0m \u001b[0ma\u001b[0m\u001b[1;33m=\u001b[0m\u001b[0ma\u001b[0m\u001b[1;33m.\u001b[0m\u001b[0mlower\u001b[0m\u001b[1;33m\u001b[0m\u001b[1;33m\u001b[0m\u001b[0m\n\u001b[0;32m      3\u001b[0m \u001b[0mvoiwel\u001b[0m\u001b[1;33m=\u001b[0m\u001b[1;34m'aeiou'\u001b[0m\u001b[1;33m\u001b[0m\u001b[1;33m\u001b[0m\u001b[0m\n\u001b[1;32m----> 4\u001b[1;33m \u001b[1;32mif\u001b[0m \u001b[0ma\u001b[0m\u001b[1;33m[\u001b[0m\u001b[1;36m0\u001b[0m\u001b[1;33m]\u001b[0m \u001b[1;32min\u001b[0m \u001b[0mvoiwel\u001b[0m\u001b[1;33m:\u001b[0m\u001b[1;33m\u001b[0m\u001b[1;33m\u001b[0m\u001b[0m\n\u001b[0m\u001b[0;32m      5\u001b[0m     \u001b[0mprint\u001b[0m\u001b[1;33m(\u001b[0m\u001b[1;34mf\"is a vovel\"\u001b[0m\u001b[1;33m)\u001b[0m\u001b[1;33m\u001b[0m\u001b[1;33m\u001b[0m\u001b[0m\n\u001b[0;32m      6\u001b[0m \u001b[1;32melse\u001b[0m\u001b[1;33m:\u001b[0m\u001b[1;33m\u001b[0m\u001b[1;33m\u001b[0m\u001b[0m\n",
      "\u001b[1;31mTypeError\u001b[0m: 'builtin_function_or_method' object is not subscriptable"
     ]
    }
   ],
   "source": [
    "a=input(\"enter the word=\")\n",
    "a=a.lower\n",
    "voiwel='aeiou'\n",
    "if a[0] in voiwel:\n",
    "    print(f\"is a vovel\")\n",
    "else:\n",
    "    print(f\"is not a vovel\")\n",
    "    "
   ]
  },
  {
   "cell_type": "code",
   "execution_count": 1,
   "id": "27583222",
   "metadata": {},
   "outputs": [
    {
     "name": "stdout",
     "output_type": "stream",
     "text": [
      "enter the string=hello how are\n"
     ]
    },
    {
     "ename": "TypeError",
     "evalue": "argument of type 'builtin_function_or_method' is not iterable",
     "output_type": "error",
     "traceback": [
      "\u001b[1;31m---------------------------------------------------------------------------\u001b[0m",
      "\u001b[1;31mTypeError\u001b[0m                                 Traceback (most recent call last)",
      "Cell \u001b[1;32mIn[1], line 7\u001b[0m\n\u001b[0;32m      5\u001b[0m count\u001b[38;5;241m=\u001b[39m\u001b[38;5;241m0\u001b[39m\n\u001b[0;32m      6\u001b[0m \u001b[38;5;28;01mfor\u001b[39;00m i  \u001b[38;5;129;01min\u001b[39;00m b:\n\u001b[1;32m----> 7\u001b[0m     \u001b[38;5;28;01mif\u001b[39;00m i \u001b[38;5;129;01min\u001b[39;00m c:\n\u001b[0;32m      8\u001b[0m         count\u001b[38;5;241m=\u001b[39mcount\u001b[38;5;241m+\u001b[39m\u001b[38;5;241m1\u001b[39m\n\u001b[0;32m      9\u001b[0m         d[i]\u001b[38;5;241m=\u001b[39mcount\n",
      "\u001b[1;31mTypeError\u001b[0m: argument of type 'builtin_function_or_method' is not iterable"
     ]
    }
   ],
   "source": [
    "d1={}\n",
    "b=input(\"enter the string=\")\n",
    "c=\"aeiou\"\n",
    "c=c.lower\n",
    "count=0\n",
    "for i  in b:\n",
    "    if i in c:\n",
    "        count=count+1\n",
    "        d[i]=count"
   ]
  },
  {
   "cell_type": "code",
   "execution_count": 1,
   "id": "7ae4ea64",
   "metadata": {},
   "outputs": [],
   "source": [
    "a=\"hello how are you\"\n",
    "v =\"aeiou\"\n",
    "a=a.lower()\n",
    "count=0\n",
    "\n",
    "d={}\n",
    "for i in a:\n",
    "    if i in v:\n",
    "        count=count+1\n",
    "        d[i]=count "
   ]
  },
  {
   "cell_type": "code",
   "execution_count": 4,
   "id": "2dbc0c55",
   "metadata": {},
   "outputs": [],
   "source": [
    "a = \"hello how are you\"\n",
    "v = \"aeiou\"\n",
    "\n",
    "a = a.lower()\n",
    "count=0\n",
    "d = {}\n",
    "for i in a:\n",
    "    if i in v:\n",
    "        count += 1\n",
    "        if i in d:\n",
    "            d[i] += count\n",
    "        else:\n",
    "            d[i] = count"
   ]
  },
  {
   "cell_type": "code",
   "execution_count": 5,
   "id": "ca2572da",
   "metadata": {},
   "outputs": [
    {
     "ename": "AttributeError",
     "evalue": "'dict' object has no attribute 'key'",
     "output_type": "error",
     "traceback": [
      "\u001b[1;31m---------------------------------------------------------------------------\u001b[0m",
      "\u001b[1;31mAttributeError\u001b[0m                            Traceback (most recent call last)",
      "Cell \u001b[1;32mIn[5], line 10\u001b[0m\n\u001b[0;32m      8\u001b[0m \u001b[38;5;28;01mif\u001b[39;00m i \u001b[38;5;129;01min\u001b[39;00m v:\n\u001b[0;32m      9\u001b[0m     count\u001b[38;5;241m=\u001b[39mcount\u001b[38;5;241m+\u001b[39m\u001b[38;5;241m1\u001b[39m\n\u001b[1;32m---> 10\u001b[0m     \u001b[38;5;28;01mif\u001b[39;00m i \u001b[38;5;129;01min\u001b[39;00m d\u001b[38;5;241m.\u001b[39mkey():\n\u001b[0;32m     11\u001b[0m         d[i]\u001b[38;5;241m+\u001b[39m\u001b[38;5;241m=\u001b[39mcount\n\u001b[0;32m     12\u001b[0m     \u001b[38;5;28;01melse\u001b[39;00m:\n",
      "\u001b[1;31mAttributeError\u001b[0m: 'dict' object has no attribute 'key'"
     ]
    }
   ],
   "source": []
  },
  {
   "cell_type": "code",
   "execution_count": null,
   "id": "698464c8",
   "metadata": {},
   "outputs": [],
   "source": []
  }
 ],
 "metadata": {
  "kernelspec": {
   "display_name": "Python 3 (ipykernel)",
   "language": "python",
   "name": "python3"
  },
  "language_info": {
   "codemirror_mode": {
    "name": "ipython",
    "version": 3
   },
   "file_extension": ".py",
   "mimetype": "text/x-python",
   "name": "python",
   "nbconvert_exporter": "python",
   "pygments_lexer": "ipython3",
   "version": "3.9.13"
  }
 },
 "nbformat": 4,
 "nbformat_minor": 5
}
